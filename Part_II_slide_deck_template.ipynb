{
 "cells": [
  {
   "cell_type": "markdown",
   "metadata": {
    "slideshow": {
     "slide_type": "slide"
    }
   },
   "source": [
    "# Part II - (Data Explanatory Analysis on Airline Data)\n",
    "## by (Oriji Sandra Onyinyechi)"
   ]
  },
  {
   "cell_type": "markdown",
   "metadata": {
    "slideshow": {
     "slide_type": "slide"
    }
   },
   "source": [
    ">**Before you start**: You must have the README.md file ready that include a summary of main findings that reflects on the steps taken during the data exploration (Part I notebook). The README.md file should also describes the key insights that will be conveyed by the explanatory slide deck (Part II  outcome)\n",
    "\n",
    "\n",
    "\n",
    "## Investigation Overview\n",
    "\n",
    "\n",
    "> The overall goal of my presentation to to explore that data, derive insight from the data and present it. I will also have to answer the following question:\n",
    "* From the Top 10 flight starting from Origin and destination, How much time (mins) on the average does it take for the flight to drive from the point of origin to it's destination?\n",
    "* From the Top 10 flight UniqueCarrier, how many of the flight was cancelled?\n",
    "* Are there certain destination or arrival cities that are home to more delays or cancellations?\n",
    "* What are the preferred times for flights to occur? Are there any changes over multiple years?\n",
    "\n",
    "\n",
    "## Dataset Overview\n",
    "\n",
    "> I am using Airline data, it consist of flight arrival and departure details for all commercial flights within the USA in the year 2008. It is the same data cleaned data i used in my data explanatory analysis. It has "
   ]
  },
  {
   "cell_type": "code",
   "execution_count": 1,
   "metadata": {
    "slideshow": {
     "slide_type": "skip"
    }
   },
   "outputs": [],
   "source": [
    "# import all packages and set plots to be embedded inline\n",
    "import numpy as np\n",
    "import pandas as pd\n",
    "import matplotlib.pyplot as plt\n",
    "import seaborn as sb\n",
    "pd.set_option('display.max_columns', 100)\n",
    "%matplotlib inline\n",
    "\n",
    "# suppress warnings from final output\n",
    "import warnings\n",
    "warnings.simplefilter(\"ignore\")"
   ]
  },
  {
   "cell_type": "code",
   "execution_count": 2,
   "metadata": {
    "slideshow": {
     "slide_type": "skip"
    }
   },
   "outputs": [
    {
     "data": {
      "text/html": [
       "<div>\n",
       "<style scoped>\n",
       "    .dataframe tbody tr th:only-of-type {\n",
       "        vertical-align: middle;\n",
       "    }\n",
       "\n",
       "    .dataframe tbody tr th {\n",
       "        vertical-align: top;\n",
       "    }\n",
       "\n",
       "    .dataframe thead th {\n",
       "        text-align: right;\n",
       "    }\n",
       "</style>\n",
       "<table border=\"1\" class=\"dataframe\">\n",
       "  <thead>\n",
       "    <tr style=\"text-align: right;\">\n",
       "      <th></th>\n",
       "      <th>Year</th>\n",
       "      <th>Month</th>\n",
       "      <th>DayofMonth</th>\n",
       "      <th>DayOfWeek</th>\n",
       "      <th>DepTime</th>\n",
       "      <th>CRSDepTime</th>\n",
       "      <th>ArrTime</th>\n",
       "      <th>CRSArrTime</th>\n",
       "      <th>UniqueCarrier</th>\n",
       "      <th>FlightNum</th>\n",
       "      <th>TailNum</th>\n",
       "      <th>ActualElapsedTime</th>\n",
       "      <th>CRSElapsedTime</th>\n",
       "      <th>AirTime</th>\n",
       "      <th>ArrDelay</th>\n",
       "      <th>DepDelay</th>\n",
       "      <th>Origin</th>\n",
       "      <th>Dest</th>\n",
       "      <th>Distance</th>\n",
       "      <th>TaxiIn</th>\n",
       "      <th>TaxiOut</th>\n",
       "      <th>Cancelled</th>\n",
       "      <th>CancellationCode</th>\n",
       "      <th>Diverted</th>\n",
       "      <th>Time Taken</th>\n",
       "    </tr>\n",
       "  </thead>\n",
       "  <tbody>\n",
       "    <tr>\n",
       "      <th>0</th>\n",
       "      <td>2008</td>\n",
       "      <td>1</td>\n",
       "      <td>3</td>\n",
       "      <td>4</td>\n",
       "      <td>1125.0</td>\n",
       "      <td>1120</td>\n",
       "      <td>1247.0</td>\n",
       "      <td>1245</td>\n",
       "      <td>WN</td>\n",
       "      <td>1343</td>\n",
       "      <td>N523SW</td>\n",
       "      <td>82.0</td>\n",
       "      <td>85.0</td>\n",
       "      <td>71.0</td>\n",
       "      <td>2.0</td>\n",
       "      <td>5.0</td>\n",
       "      <td>HOU</td>\n",
       "      <td>MAF</td>\n",
       "      <td>441</td>\n",
       "      <td>3.0</td>\n",
       "      <td>8.0</td>\n",
       "      <td>0</td>\n",
       "      <td>NaN</td>\n",
       "      <td>0</td>\n",
       "      <td>122.0</td>\n",
       "    </tr>\n",
       "    <tr>\n",
       "      <th>1</th>\n",
       "      <td>2008</td>\n",
       "      <td>1</td>\n",
       "      <td>3</td>\n",
       "      <td>4</td>\n",
       "      <td>2009.0</td>\n",
       "      <td>2015</td>\n",
       "      <td>2136.0</td>\n",
       "      <td>2140</td>\n",
       "      <td>WN</td>\n",
       "      <td>3841</td>\n",
       "      <td>N280WN</td>\n",
       "      <td>87.0</td>\n",
       "      <td>85.0</td>\n",
       "      <td>71.0</td>\n",
       "      <td>-4.0</td>\n",
       "      <td>-6.0</td>\n",
       "      <td>HOU</td>\n",
       "      <td>MAF</td>\n",
       "      <td>441</td>\n",
       "      <td>2.0</td>\n",
       "      <td>14.0</td>\n",
       "      <td>0</td>\n",
       "      <td>NaN</td>\n",
       "      <td>0</td>\n",
       "      <td>127.0</td>\n",
       "    </tr>\n",
       "    <tr>\n",
       "      <th>2</th>\n",
       "      <td>2008</td>\n",
       "      <td>1</td>\n",
       "      <td>3</td>\n",
       "      <td>4</td>\n",
       "      <td>903.0</td>\n",
       "      <td>855</td>\n",
       "      <td>1203.0</td>\n",
       "      <td>1205</td>\n",
       "      <td>WN</td>\n",
       "      <td>3</td>\n",
       "      <td>N308SA</td>\n",
       "      <td>120.0</td>\n",
       "      <td>130.0</td>\n",
       "      <td>108.0</td>\n",
       "      <td>-2.0</td>\n",
       "      <td>8.0</td>\n",
       "      <td>HOU</td>\n",
       "      <td>MCO</td>\n",
       "      <td>848</td>\n",
       "      <td>5.0</td>\n",
       "      <td>7.0</td>\n",
       "      <td>0</td>\n",
       "      <td>NaN</td>\n",
       "      <td>0</td>\n",
       "      <td>300.0</td>\n",
       "    </tr>\n",
       "    <tr>\n",
       "      <th>3</th>\n",
       "      <td>2008</td>\n",
       "      <td>1</td>\n",
       "      <td>3</td>\n",
       "      <td>4</td>\n",
       "      <td>2024.0</td>\n",
       "      <td>2020</td>\n",
       "      <td>2325.0</td>\n",
       "      <td>2325</td>\n",
       "      <td>WN</td>\n",
       "      <td>51</td>\n",
       "      <td>N483WN</td>\n",
       "      <td>121.0</td>\n",
       "      <td>125.0</td>\n",
       "      <td>101.0</td>\n",
       "      <td>0.0</td>\n",
       "      <td>4.0</td>\n",
       "      <td>HOU</td>\n",
       "      <td>MCO</td>\n",
       "      <td>848</td>\n",
       "      <td>13.0</td>\n",
       "      <td>7.0</td>\n",
       "      <td>0</td>\n",
       "      <td>NaN</td>\n",
       "      <td>0</td>\n",
       "      <td>301.0</td>\n",
       "    </tr>\n",
       "    <tr>\n",
       "      <th>4</th>\n",
       "      <td>2008</td>\n",
       "      <td>1</td>\n",
       "      <td>3</td>\n",
       "      <td>4</td>\n",
       "      <td>1753.0</td>\n",
       "      <td>1745</td>\n",
       "      <td>2053.0</td>\n",
       "      <td>2050</td>\n",
       "      <td>WN</td>\n",
       "      <td>940</td>\n",
       "      <td>N493WN</td>\n",
       "      <td>120.0</td>\n",
       "      <td>125.0</td>\n",
       "      <td>107.0</td>\n",
       "      <td>3.0</td>\n",
       "      <td>8.0</td>\n",
       "      <td>HOU</td>\n",
       "      <td>MCO</td>\n",
       "      <td>848</td>\n",
       "      <td>6.0</td>\n",
       "      <td>7.0</td>\n",
       "      <td>0</td>\n",
       "      <td>NaN</td>\n",
       "      <td>0</td>\n",
       "      <td>300.0</td>\n",
       "    </tr>\n",
       "  </tbody>\n",
       "</table>\n",
       "</div>"
      ],
      "text/plain": [
       "   Year  Month  DayofMonth  DayOfWeek  DepTime  CRSDepTime  ArrTime  \\\n",
       "0  2008      1           3          4   1125.0        1120   1247.0   \n",
       "1  2008      1           3          4   2009.0        2015   2136.0   \n",
       "2  2008      1           3          4    903.0         855   1203.0   \n",
       "3  2008      1           3          4   2024.0        2020   2325.0   \n",
       "4  2008      1           3          4   1753.0        1745   2053.0   \n",
       "\n",
       "   CRSArrTime UniqueCarrier  FlightNum TailNum  ActualElapsedTime  \\\n",
       "0        1245            WN       1343  N523SW               82.0   \n",
       "1        2140            WN       3841  N280WN               87.0   \n",
       "2        1205            WN          3  N308SA              120.0   \n",
       "3        2325            WN         51  N483WN              121.0   \n",
       "4        2050            WN        940  N493WN              120.0   \n",
       "\n",
       "   CRSElapsedTime  AirTime  ArrDelay  DepDelay Origin Dest  Distance  TaxiIn  \\\n",
       "0            85.0     71.0       2.0       5.0    HOU  MAF       441     3.0   \n",
       "1            85.0     71.0      -4.0      -6.0    HOU  MAF       441     2.0   \n",
       "2           130.0    108.0      -2.0       8.0    HOU  MCO       848     5.0   \n",
       "3           125.0    101.0       0.0       4.0    HOU  MCO       848    13.0   \n",
       "4           125.0    107.0       3.0       8.0    HOU  MCO       848     6.0   \n",
       "\n",
       "   TaxiOut  Cancelled CancellationCode  Diverted  Time Taken  \n",
       "0      8.0          0              NaN         0       122.0  \n",
       "1     14.0          0              NaN         0       127.0  \n",
       "2      7.0          0              NaN         0       300.0  \n",
       "3      7.0          0              NaN         0       301.0  \n",
       "4      7.0          0              NaN         0       300.0  "
      ]
     },
     "execution_count": 2,
     "metadata": {},
     "output_type": "execute_result"
    }
   ],
   "source": [
    "# load in the dataset into a pandas dataframe\n",
    "flight = pd.read_csv('flight_2008.csv')\n",
    "flight.head()"
   ]
  },
  {
   "cell_type": "code",
   "execution_count": 3,
   "metadata": {
    "slideshow": {
     "slide_type": "skip"
    }
   },
   "outputs": [
    {
     "name": "stdout",
     "output_type": "stream",
     "text": [
      "<class 'pandas.core.frame.DataFrame'>\n",
      "RangeIndex: 1804634 entries, 0 to 1804633\n",
      "Data columns (total 25 columns):\n",
      " #   Column             Non-Null Count    Dtype  \n",
      "---  ------             --------------    -----  \n",
      " 0   Year               1804634 non-null  int64  \n",
      " 1   Month              1804634 non-null  int64  \n",
      " 2   DayofMonth         1804634 non-null  int64  \n",
      " 3   DayOfWeek          1804634 non-null  int64  \n",
      " 4   DepTime            1740192 non-null  float64\n",
      " 5   CRSDepTime         1804634 non-null  int64  \n",
      " 6   ArrTime            1734538 non-null  float64\n",
      " 7   CRSArrTime         1804634 non-null  int64  \n",
      " 8   UniqueCarrier      1804634 non-null  object \n",
      " 9   FlightNum          1804634 non-null  int64  \n",
      " 10  TailNum            1762183 non-null  object \n",
      " 11  ActualElapsedTime  1734538 non-null  float64\n",
      " 12  CRSElapsedTime     1804227 non-null  float64\n",
      " 13  AirTime            1734538 non-null  float64\n",
      " 14  ArrDelay           1734538 non-null  float64\n",
      " 15  DepDelay           1740192 non-null  float64\n",
      " 16  Origin             1804634 non-null  object \n",
      " 17  Dest               1804634 non-null  object \n",
      " 18  Distance           1804634 non-null  int64  \n",
      " 19  TaxiIn             1734538 non-null  float64\n",
      " 20  TaxiOut            1740192 non-null  float64\n",
      " 21  Cancelled          1804634 non-null  int64  \n",
      " 22  CancellationCode   64442 non-null    object \n",
      " 23  Diverted           1804634 non-null  int64  \n",
      " 24  Time Taken         1734538 non-null  float64\n",
      "dtypes: float64(10), int64(10), object(5)\n",
      "memory usage: 344.2+ MB\n"
     ]
    }
   ],
   "source": [
    "# get the data infomation\n",
    "flight.info(verbose=True, show_counts=True)"
   ]
  },
  {
   "cell_type": "code",
   "execution_count": 4,
   "metadata": {
    "slideshow": {
     "slide_type": "skip"
    }
   },
   "outputs": [
    {
     "data": {
      "text/html": [
       "<div>\n",
       "<style scoped>\n",
       "    .dataframe tbody tr th:only-of-type {\n",
       "        vertical-align: middle;\n",
       "    }\n",
       "\n",
       "    .dataframe tbody tr th {\n",
       "        vertical-align: top;\n",
       "    }\n",
       "\n",
       "    .dataframe thead th {\n",
       "        text-align: right;\n",
       "    }\n",
       "</style>\n",
       "<table border=\"1\" class=\"dataframe\">\n",
       "  <thead>\n",
       "    <tr style=\"text-align: right;\">\n",
       "      <th></th>\n",
       "      <th>Year</th>\n",
       "      <th>Month</th>\n",
       "      <th>DayofMonth</th>\n",
       "      <th>DayOfWeek</th>\n",
       "      <th>DepTime</th>\n",
       "      <th>CRSDepTime</th>\n",
       "      <th>ArrTime</th>\n",
       "      <th>CRSArrTime</th>\n",
       "      <th>FlightNum</th>\n",
       "      <th>ActualElapsedTime</th>\n",
       "      <th>CRSElapsedTime</th>\n",
       "      <th>AirTime</th>\n",
       "      <th>ArrDelay</th>\n",
       "      <th>DepDelay</th>\n",
       "      <th>Distance</th>\n",
       "      <th>TaxiIn</th>\n",
       "      <th>TaxiOut</th>\n",
       "      <th>Cancelled</th>\n",
       "      <th>Diverted</th>\n",
       "      <th>Time Taken</th>\n",
       "    </tr>\n",
       "  </thead>\n",
       "  <tbody>\n",
       "    <tr>\n",
       "      <th>count</th>\n",
       "      <td>1804634.0</td>\n",
       "      <td>1.804634e+06</td>\n",
       "      <td>1.804634e+06</td>\n",
       "      <td>1.804634e+06</td>\n",
       "      <td>1.740192e+06</td>\n",
       "      <td>1.804634e+06</td>\n",
       "      <td>1.734538e+06</td>\n",
       "      <td>1.804634e+06</td>\n",
       "      <td>1.804634e+06</td>\n",
       "      <td>1.734538e+06</td>\n",
       "      <td>1.804227e+06</td>\n",
       "      <td>1.734538e+06</td>\n",
       "      <td>1.734538e+06</td>\n",
       "      <td>1.740192e+06</td>\n",
       "      <td>1.804634e+06</td>\n",
       "      <td>1.734538e+06</td>\n",
       "      <td>1.740192e+06</td>\n",
       "      <td>1.804634e+06</td>\n",
       "      <td>1.804634e+06</td>\n",
       "      <td>1.734538e+06</td>\n",
       "    </tr>\n",
       "    <tr>\n",
       "      <th>mean</th>\n",
       "      <td>2008.0</td>\n",
       "      <td>2.528460e+00</td>\n",
       "      <td>1.579886e+01</td>\n",
       "      <td>3.898041e+00</td>\n",
       "      <td>1.289889e+03</td>\n",
       "      <td>1.297060e+03</td>\n",
       "      <td>1.453021e+03</td>\n",
       "      <td>1.463260e+03</td>\n",
       "      <td>2.198643e+03</td>\n",
       "      <td>1.239013e+02</td>\n",
       "      <td>1.277983e+02</td>\n",
       "      <td>1.026542e+02</td>\n",
       "      <td>-5.105990e+00</td>\n",
       "      <td>-6.924874e-01</td>\n",
       "      <td>7.164275e+02</td>\n",
       "      <td>6.534591e+00</td>\n",
       "      <td>1.473014e+01</td>\n",
       "      <td>3.570918e-02</td>\n",
       "      <td>3.133045e-03</td>\n",
       "      <td>1.631732e+02</td>\n",
       "    </tr>\n",
       "    <tr>\n",
       "      <th>std</th>\n",
       "      <td>0.0</td>\n",
       "      <td>1.132741e+00</td>\n",
       "      <td>8.666100e+00</td>\n",
       "      <td>1.982524e+00</td>\n",
       "      <td>4.717804e+02</td>\n",
       "      <td>4.680506e+02</td>\n",
       "      <td>4.833062e+02</td>\n",
       "      <td>4.831877e+02</td>\n",
       "      <td>1.942696e+03</td>\n",
       "      <td>6.809545e+01</td>\n",
       "      <td>6.898816e+01</td>\n",
       "      <td>6.633088e+01</td>\n",
       "      <td>1.018021e+01</td>\n",
       "      <td>8.177971e+00</td>\n",
       "      <td>5.550211e+02</td>\n",
       "      <td>4.023756e+00</td>\n",
       "      <td>6.985289e+00</td>\n",
       "      <td>1.855641e-01</td>\n",
       "      <td>5.588587e-02</td>\n",
       "      <td>3.086986e+02</td>\n",
       "    </tr>\n",
       "    <tr>\n",
       "      <th>min</th>\n",
       "      <td>2008.0</td>\n",
       "      <td>1.000000e+00</td>\n",
       "      <td>1.000000e+00</td>\n",
       "      <td>1.000000e+00</td>\n",
       "      <td>1.000000e+00</td>\n",
       "      <td>0.000000e+00</td>\n",
       "      <td>1.000000e+00</td>\n",
       "      <td>1.000000e+00</td>\n",
       "      <td>1.000000e+00</td>\n",
       "      <td>1.400000e+01</td>\n",
       "      <td>-2.500000e+01</td>\n",
       "      <td>0.000000e+00</td>\n",
       "      <td>-9.100000e+01</td>\n",
       "      <td>-9.200000e+01</td>\n",
       "      <td>1.700000e+01</td>\n",
       "      <td>0.000000e+00</td>\n",
       "      <td>0.000000e+00</td>\n",
       "      <td>0.000000e+00</td>\n",
       "      <td>0.000000e+00</td>\n",
       "      <td>-2.336000e+03</td>\n",
       "    </tr>\n",
       "    <tr>\n",
       "      <th>25%</th>\n",
       "      <td>2008.0</td>\n",
       "      <td>1.000000e+00</td>\n",
       "      <td>8.000000e+00</td>\n",
       "      <td>2.000000e+00</td>\n",
       "      <td>9.000000e+02</td>\n",
       "      <td>9.020000e+02</td>\n",
       "      <td>1.047000e+03</td>\n",
       "      <td>1.055000e+03</td>\n",
       "      <td>5.950000e+02</td>\n",
       "      <td>7.500000e+01</td>\n",
       "      <td>7.900000e+01</td>\n",
       "      <td>5.500000e+01</td>\n",
       "      <td>-1.200000e+01</td>\n",
       "      <td>-5.000000e+00</td>\n",
       "      <td>3.210000e+02</td>\n",
       "      <td>4.000000e+00</td>\n",
       "      <td>1.000000e+01</td>\n",
       "      <td>0.000000e+00</td>\n",
       "      <td>0.000000e+00</td>\n",
       "      <td>1.070000e+02</td>\n",
       "    </tr>\n",
       "    <tr>\n",
       "      <th>50%</th>\n",
       "      <td>2008.0</td>\n",
       "      <td>3.000000e+00</td>\n",
       "      <td>1.600000e+01</td>\n",
       "      <td>4.000000e+00</td>\n",
       "      <td>1.250000e+03</td>\n",
       "      <td>1.255000e+03</td>\n",
       "      <td>1.438000e+03</td>\n",
       "      <td>1.445000e+03</td>\n",
       "      <td>1.537000e+03</td>\n",
       "      <td>1.060000e+02</td>\n",
       "      <td>1.100000e+02</td>\n",
       "      <td>8.500000e+01</td>\n",
       "      <td>-5.000000e+00</td>\n",
       "      <td>-2.000000e+00</td>\n",
       "      <td>5.690000e+02</td>\n",
       "      <td>5.000000e+00</td>\n",
       "      <td>1.300000e+01</td>\n",
       "      <td>0.000000e+00</td>\n",
       "      <td>0.000000e+00</td>\n",
       "      <td>1.710000e+02</td>\n",
       "    </tr>\n",
       "    <tr>\n",
       "      <th>75%</th>\n",
       "      <td>2008.0</td>\n",
       "      <td>4.000000e+00</td>\n",
       "      <td>2.300000e+01</td>\n",
       "      <td>6.000000e+00</td>\n",
       "      <td>1.658000e+03</td>\n",
       "      <td>1.700000e+03</td>\n",
       "      <td>1.840000e+03</td>\n",
       "      <td>1.845000e+03</td>\n",
       "      <td>3.575000e+03</td>\n",
       "      <td>1.540000e+02</td>\n",
       "      <td>1.580000e+02</td>\n",
       "      <td>1.310000e+02</td>\n",
       "      <td>2.000000e+00</td>\n",
       "      <td>1.000000e+00</td>\n",
       "      <td>9.480000e+02</td>\n",
       "      <td>8.000000e+00</td>\n",
       "      <td>1.800000e+01</td>\n",
       "      <td>0.000000e+00</td>\n",
       "      <td>0.000000e+00</td>\n",
       "      <td>2.570000e+02</td>\n",
       "    </tr>\n",
       "    <tr>\n",
       "      <th>max</th>\n",
       "      <td>2008.0</td>\n",
       "      <td>4.000000e+00</td>\n",
       "      <td>3.100000e+01</td>\n",
       "      <td>7.000000e+00</td>\n",
       "      <td>2.400000e+03</td>\n",
       "      <td>2.359000e+03</td>\n",
       "      <td>2.400000e+03</td>\n",
       "      <td>2.400000e+03</td>\n",
       "      <td>9.741000e+03</td>\n",
       "      <td>6.760000e+02</td>\n",
       "      <td>1.435000e+03</td>\n",
       "      <td>6.580000e+02</td>\n",
       "      <td>1.400000e+01</td>\n",
       "      <td>1.154000e+03</td>\n",
       "      <td>4.962000e+03</td>\n",
       "      <td>1.340000e+02</td>\n",
       "      <td>2.780000e+02</td>\n",
       "      <td>1.000000e+00</td>\n",
       "      <td>1.000000e+00</td>\n",
       "      <td>1.025000e+03</td>\n",
       "    </tr>\n",
       "  </tbody>\n",
       "</table>\n",
       "</div>"
      ],
      "text/plain": [
       "            Year         Month    DayofMonth     DayOfWeek       DepTime  \\\n",
       "count  1804634.0  1.804634e+06  1.804634e+06  1.804634e+06  1.740192e+06   \n",
       "mean      2008.0  2.528460e+00  1.579886e+01  3.898041e+00  1.289889e+03   \n",
       "std          0.0  1.132741e+00  8.666100e+00  1.982524e+00  4.717804e+02   \n",
       "min       2008.0  1.000000e+00  1.000000e+00  1.000000e+00  1.000000e+00   \n",
       "25%       2008.0  1.000000e+00  8.000000e+00  2.000000e+00  9.000000e+02   \n",
       "50%       2008.0  3.000000e+00  1.600000e+01  4.000000e+00  1.250000e+03   \n",
       "75%       2008.0  4.000000e+00  2.300000e+01  6.000000e+00  1.658000e+03   \n",
       "max       2008.0  4.000000e+00  3.100000e+01  7.000000e+00  2.400000e+03   \n",
       "\n",
       "         CRSDepTime       ArrTime    CRSArrTime     FlightNum  \\\n",
       "count  1.804634e+06  1.734538e+06  1.804634e+06  1.804634e+06   \n",
       "mean   1.297060e+03  1.453021e+03  1.463260e+03  2.198643e+03   \n",
       "std    4.680506e+02  4.833062e+02  4.831877e+02  1.942696e+03   \n",
       "min    0.000000e+00  1.000000e+00  1.000000e+00  1.000000e+00   \n",
       "25%    9.020000e+02  1.047000e+03  1.055000e+03  5.950000e+02   \n",
       "50%    1.255000e+03  1.438000e+03  1.445000e+03  1.537000e+03   \n",
       "75%    1.700000e+03  1.840000e+03  1.845000e+03  3.575000e+03   \n",
       "max    2.359000e+03  2.400000e+03  2.400000e+03  9.741000e+03   \n",
       "\n",
       "       ActualElapsedTime  CRSElapsedTime       AirTime      ArrDelay  \\\n",
       "count       1.734538e+06    1.804227e+06  1.734538e+06  1.734538e+06   \n",
       "mean        1.239013e+02    1.277983e+02  1.026542e+02 -5.105990e+00   \n",
       "std         6.809545e+01    6.898816e+01  6.633088e+01  1.018021e+01   \n",
       "min         1.400000e+01   -2.500000e+01  0.000000e+00 -9.100000e+01   \n",
       "25%         7.500000e+01    7.900000e+01  5.500000e+01 -1.200000e+01   \n",
       "50%         1.060000e+02    1.100000e+02  8.500000e+01 -5.000000e+00   \n",
       "75%         1.540000e+02    1.580000e+02  1.310000e+02  2.000000e+00   \n",
       "max         6.760000e+02    1.435000e+03  6.580000e+02  1.400000e+01   \n",
       "\n",
       "           DepDelay      Distance        TaxiIn       TaxiOut     Cancelled  \\\n",
       "count  1.740192e+06  1.804634e+06  1.734538e+06  1.740192e+06  1.804634e+06   \n",
       "mean  -6.924874e-01  7.164275e+02  6.534591e+00  1.473014e+01  3.570918e-02   \n",
       "std    8.177971e+00  5.550211e+02  4.023756e+00  6.985289e+00  1.855641e-01   \n",
       "min   -9.200000e+01  1.700000e+01  0.000000e+00  0.000000e+00  0.000000e+00   \n",
       "25%   -5.000000e+00  3.210000e+02  4.000000e+00  1.000000e+01  0.000000e+00   \n",
       "50%   -2.000000e+00  5.690000e+02  5.000000e+00  1.300000e+01  0.000000e+00   \n",
       "75%    1.000000e+00  9.480000e+02  8.000000e+00  1.800000e+01  0.000000e+00   \n",
       "max    1.154000e+03  4.962000e+03  1.340000e+02  2.780000e+02  1.000000e+00   \n",
       "\n",
       "           Diverted    Time Taken  \n",
       "count  1.804634e+06  1.734538e+06  \n",
       "mean   3.133045e-03  1.631732e+02  \n",
       "std    5.588587e-02  3.086986e+02  \n",
       "min    0.000000e+00 -2.336000e+03  \n",
       "25%    0.000000e+00  1.070000e+02  \n",
       "50%    0.000000e+00  1.710000e+02  \n",
       "75%    0.000000e+00  2.570000e+02  \n",
       "max    1.000000e+00  1.025000e+03  "
      ]
     },
     "execution_count": 4,
     "metadata": {},
     "output_type": "execute_result"
    }
   ],
   "source": [
    "flight.describe()"
   ]
  },
  {
   "cell_type": "markdown",
   "metadata": {
    "slideshow": {
     "slide_type": "notes"
    }
   },
   "source": [
    "> Note that the above cells have been set as \"Skip\"-type slides. That means\n",
    "that when the notebook is rendered as http slides, those cells won't show up."
   ]
  },
  {
   "cell_type": "markdown",
   "metadata": {
    "slideshow": {
     "slide_type": "slide"
    }
   },
   "source": [
    "## (Visualization 1)\n",
    "\n",
    "> I worked on Airline data 2008 only this is because of how large the data is compared with my PC capacity. For Visualization 1, i will be working with the following features **Dest, Time Taken, CancellationCode, DepDelay, Origin, Cancelled and Month**. \n",
    "For the destination code (Dest), it has **284** nunique code. I will be working on top **10** destination code only. From my visualization below the top 10 destination codes, there no record of cancelled trips. Also, all the top 10 destination experienced delays with the highest been **ORD** and **DTW**."
   ]
  },
  {
   "cell_type": "code",
   "execution_count": 5,
   "metadata": {
    "slideshow": {
     "slide_type": "skip"
    }
   },
   "outputs": [],
   "source": [
    "# list of cancellationcode\n",
    "code = ['A', 'B', 'C', 'D']\n",
    "\n",
    "# change dtype to categorical\n",
    "vcode = pd.api.types.CategoricalDtype(ordered=True, categories=code)\n",
    "flight['CancellationCode'] = flight['CancellationCode'].astype(vcode)"
   ]
  },
  {
   "cell_type": "code",
   "execution_count": 6,
   "metadata": {
    "slideshow": {
     "slide_type": "subslide"
    }
   },
   "outputs": [
    {
     "data": {
      "image/png": "[encoded data removed]",
      "text/plain": [
       "<Figure size 640x480 with 1 Axes>"
      ]
     },
     "metadata": {},
     "output_type": "display_data"
    }
   ],
   "source": [
    "# get the color palette for chart\n",
    "color = sb.color_palette()[0]\n",
    "\n",
    "# get list of top 10 Origin\n",
    "flight_dest = flight.loc[flight['Dest'].isin(['ATL','ORD', 'DFW','DEN', 'PHX', 'LAX', 'IAH', 'LAS', 'DTW', 'SLC'])]\n",
    "order_val = flight_dest['Dest'].value_counts().index\n",
    "\n",
    "# plot the top 10 carrier destination\n",
    "sb.countplot(data = flight_dest, x = 'Dest', order = order_val, color = color)\n",
    "plt.title('Destination Counts');"
   ]
  },
  {
   "cell_type": "markdown",
   "metadata": {},
   "source": [
    "From the visualization, it can bee see that Destination ATL has the highest number of carriers in the first 4 months of 2008."
   ]
  },
  {
   "cell_type": "code",
   "execution_count": 7,
   "metadata": {
    "scrolled": true,
    "slideshow": {
     "slide_type": "subslide"
    }
   },
   "outputs": [
    {
     "data": {
      "image/png": "[encoded data removed]",
      "text/plain": [
       "<Figure size 800x400 with 1 Axes>"
      ]
     },
     "metadata": {},
     "output_type": "display_data"
    }
   ],
   "source": [
    "# add figsize to the chart\n",
    "plt.figure(figsize = [8, 4]);\n",
    "\n",
    "# set the ordinal data in alphabetical order\n",
    "dest = ['ATL', 'DFW','DEN', 'DTW', 'ORD', 'IAH', 'LAS', 'LAX', 'PHX', 'SLC']\n",
    "\n",
    "# plot destination vs time taken and cancelled (was the flight cancelled?)\n",
    "sb.barplot(x=\"Dest\",y=\"Time Taken\",hue = 'Cancelled',data=flight_dest, order = dest)\n",
    "\n",
    "# Add chart title\n",
    "plt.title('Destination vs Time Taken and Cancelled');"
   ]
  },
  {
   "cell_type": "markdown",
   "metadata": {},
   "source": [
    "From the visualization, it can see that top 10 destination had no cancelled flight or trip."
   ]
  },
  {
   "cell_type": "code",
   "execution_count": 8,
   "metadata": {
    "slideshow": {
     "slide_type": "subslide"
    }
   },
   "outputs": [
    {
     "data": {
      "image/png": "[encoded data removed]",
      "text/plain": [
       "<Figure size 800x400 with 1 Axes>"
      ]
     },
     "metadata": {},
     "output_type": "display_data"
    }
   ],
   "source": [
    "# figsize for the chart\n",
    "plt.figure(figsize = [8, 4]);\n",
    "\n",
    "# plot destination vs time taken and cancelled\n",
    "sb.barplot(x=\"Dest\",y=\"ArrDelay\",data=flight_dest, color = color, order = dest);"
   ]
  },
  {
   "cell_type": "markdown",
   "metadata": {},
   "source": [
    "This chart above shows that destination ORD experienced the highest delay delays followed by DTW and PHX in the flight for 2008."
   ]
  },
  {
   "cell_type": "code",
   "execution_count": 9,
   "metadata": {
    "scrolled": true,
    "slideshow": {
     "slide_type": "subslide"
    }
   },
   "outputs": [
    {
     "data": {
      "image/png": "[encoded data removed]",
      "text/plain": [
       "<Figure size 800x400 with 1 Axes>"
      ]
     },
     "metadata": {},
     "output_type": "display_data"
    }
   ],
   "source": [
    "# figsize of the chart\n",
    "plt.figure(figsize = [8, 4]);\n",
    "\n",
    "# plot destination vs time taken and Month\n",
    "sb.barplot(x=\"Dest\",y=\"Time Taken\",data=flight_dest, hue='Month', order = dest)\n",
    "\n",
    "# positon the legend and add title\n",
    "plt.legend(loc='upper right', title = 'Month')\n",
    "plt.title('Destination vs Time Taken and Month');"
   ]
  },
  {
   "cell_type": "markdown",
   "metadata": {},
   "source": [
    "From the visualization above, it can seen that the flight that took place in Month (4) spent more time for the carrier to reach its destination."
   ]
  },
  {
   "cell_type": "code",
   "execution_count": 10,
   "metadata": {
    "slideshow": {
     "slide_type": "skip"
    }
   },
   "outputs": [
    {
     "data": {
      "text/html": [
       "<div>\n",
       "<style scoped>\n",
       "    .dataframe tbody tr th:only-of-type {\n",
       "        vertical-align: middle;\n",
       "    }\n",
       "\n",
       "    .dataframe tbody tr th {\n",
       "        vertical-align: top;\n",
       "    }\n",
       "\n",
       "    .dataframe thead th {\n",
       "        text-align: right;\n",
       "    }\n",
       "</style>\n",
       "<table border=\"1\" class=\"dataframe\">\n",
       "  <thead>\n",
       "    <tr style=\"text-align: right;\">\n",
       "      <th></th>\n",
       "      <th>Dest</th>\n",
       "      <th>Cancelled</th>\n",
       "      <th>Time Taken</th>\n",
       "    </tr>\n",
       "  </thead>\n",
       "  <tbody>\n",
       "    <tr>\n",
       "      <th>0</th>\n",
       "      <td>ATL</td>\n",
       "      <td>0</td>\n",
       "      <td>206.278376</td>\n",
       "    </tr>\n",
       "    <tr>\n",
       "      <th>1</th>\n",
       "      <td>ATL</td>\n",
       "      <td>1</td>\n",
       "      <td>NaN</td>\n",
       "    </tr>\n",
       "    <tr>\n",
       "      <th>2</th>\n",
       "      <td>DEN</td>\n",
       "      <td>0</td>\n",
       "      <td>174.839055</td>\n",
       "    </tr>\n",
       "    <tr>\n",
       "      <th>3</th>\n",
       "      <td>DEN</td>\n",
       "      <td>1</td>\n",
       "      <td>NaN</td>\n",
       "    </tr>\n",
       "    <tr>\n",
       "      <th>4</th>\n",
       "      <td>DFW</td>\n",
       "      <td>0</td>\n",
       "      <td>213.743297</td>\n",
       "    </tr>\n",
       "    <tr>\n",
       "      <th>5</th>\n",
       "      <td>DFW</td>\n",
       "      <td>1</td>\n",
       "      <td>NaN</td>\n",
       "    </tr>\n",
       "    <tr>\n",
       "      <th>6</th>\n",
       "      <td>DTW</td>\n",
       "      <td>0</td>\n",
       "      <td>183.248821</td>\n",
       "    </tr>\n",
       "    <tr>\n",
       "      <th>7</th>\n",
       "      <td>DTW</td>\n",
       "      <td>1</td>\n",
       "      <td>NaN</td>\n",
       "    </tr>\n",
       "    <tr>\n",
       "      <th>8</th>\n",
       "      <td>IAH</td>\n",
       "      <td>0</td>\n",
       "      <td>214.354894</td>\n",
       "    </tr>\n",
       "    <tr>\n",
       "      <th>9</th>\n",
       "      <td>IAH</td>\n",
       "      <td>1</td>\n",
       "      <td>NaN</td>\n",
       "    </tr>\n",
       "    <tr>\n",
       "      <th>10</th>\n",
       "      <td>LAS</td>\n",
       "      <td>0</td>\n",
       "      <td>125.057640</td>\n",
       "    </tr>\n",
       "    <tr>\n",
       "      <th>11</th>\n",
       "      <td>LAS</td>\n",
       "      <td>1</td>\n",
       "      <td>NaN</td>\n",
       "    </tr>\n",
       "    <tr>\n",
       "      <th>12</th>\n",
       "      <td>LAX</td>\n",
       "      <td>0</td>\n",
       "      <td>110.045522</td>\n",
       "    </tr>\n",
       "    <tr>\n",
       "      <th>13</th>\n",
       "      <td>LAX</td>\n",
       "      <td>1</td>\n",
       "      <td>NaN</td>\n",
       "    </tr>\n",
       "    <tr>\n",
       "      <th>14</th>\n",
       "      <td>ORD</td>\n",
       "      <td>0</td>\n",
       "      <td>148.136685</td>\n",
       "    </tr>\n",
       "    <tr>\n",
       "      <th>15</th>\n",
       "      <td>ORD</td>\n",
       "      <td>1</td>\n",
       "      <td>NaN</td>\n",
       "    </tr>\n",
       "    <tr>\n",
       "      <th>16</th>\n",
       "      <td>PHX</td>\n",
       "      <td>0</td>\n",
       "      <td>154.567928</td>\n",
       "    </tr>\n",
       "    <tr>\n",
       "      <th>17</th>\n",
       "      <td>PHX</td>\n",
       "      <td>1</td>\n",
       "      <td>NaN</td>\n",
       "    </tr>\n",
       "    <tr>\n",
       "      <th>18</th>\n",
       "      <td>SLC</td>\n",
       "      <td>0</td>\n",
       "      <td>191.235472</td>\n",
       "    </tr>\n",
       "    <tr>\n",
       "      <th>19</th>\n",
       "      <td>SLC</td>\n",
       "      <td>1</td>\n",
       "      <td>NaN</td>\n",
       "    </tr>\n",
       "  </tbody>\n",
       "</table>\n",
       "</div>"
      ],
      "text/plain": [
       "   Dest  Cancelled  Time Taken\n",
       "0   ATL          0  206.278376\n",
       "1   ATL          1         NaN\n",
       "2   DEN          0  174.839055\n",
       "3   DEN          1         NaN\n",
       "4   DFW          0  213.743297\n",
       "5   DFW          1         NaN\n",
       "6   DTW          0  183.248821\n",
       "7   DTW          1         NaN\n",
       "8   IAH          0  214.354894\n",
       "9   IAH          1         NaN\n",
       "10  LAS          0  125.057640\n",
       "11  LAS          1         NaN\n",
       "12  LAX          0  110.045522\n",
       "13  LAX          1         NaN\n",
       "14  ORD          0  148.136685\n",
       "15  ORD          1         NaN\n",
       "16  PHX          0  154.567928\n",
       "17  PHX          1         NaN\n",
       "18  SLC          0  191.235472\n",
       "19  SLC          1         NaN"
      ]
     },
     "execution_count": 10,
     "metadata": {},
     "output_type": "execute_result"
    }
   ],
   "source": [
    "# get the mean value of time taken for each carrier to get to it destination and the cancellation status \n",
    "dest = flight_dest.groupby(['Dest', 'Cancelled'])['Time Taken'].mean().reset_index()\n",
    "dest"
   ]
  },
  {
   "cell_type": "code",
   "execution_count": 11,
   "metadata": {
    "slideshow": {
     "slide_type": "subslide"
    }
   },
   "outputs": [
    {
     "data": {
      "image/png": "[encoded data removed]",
      "text/plain": [
       "<Figure size 800x400 with 1 Axes>"
      ]
     },
     "metadata": {},
     "output_type": "display_data"
    }
   ],
   "source": [
    "# figsize for the chart\n",
    "plt.figure(figsize = [8, 4]);\n",
    "\n",
    "# plot destination vs Time Taken order\n",
    "# order by destination of flight alphabetically\n",
    "sb.barplot(x=\"Dest\",y=\"Time Taken\",data= flight_dest, color = color)\n",
    "plt.title('The total time taken to reach destination');"
   ]
  },
  {
   "cell_type": "markdown",
   "metadata": {},
   "source": [
    "From the visualization, it can be seen that it took more time for the flight to get to IAX, DFW than in LAX."
   ]
  },
  {
   "cell_type": "code",
   "execution_count": 12,
   "metadata": {
    "slideshow": {
     "slide_type": "skip"
    }
   },
   "outputs": [
    {
     "data": {
      "text/html": [
       "<div>\n",
       "<style scoped>\n",
       "    .dataframe tbody tr th:only-of-type {\n",
       "        vertical-align: middle;\n",
       "    }\n",
       "\n",
       "    .dataframe tbody tr th {\n",
       "        vertical-align: top;\n",
       "    }\n",
       "\n",
       "    .dataframe thead th {\n",
       "        text-align: right;\n",
       "    }\n",
       "</style>\n",
       "<table border=\"1\" class=\"dataframe\">\n",
       "  <thead>\n",
       "    <tr style=\"text-align: right;\">\n",
       "      <th></th>\n",
       "      <th>Dest</th>\n",
       "      <th>Time Taken</th>\n",
       "    </tr>\n",
       "  </thead>\n",
       "  <tbody>\n",
       "    <tr>\n",
       "      <th>0</th>\n",
       "      <td>ATL</td>\n",
       "      <td>-2312.0</td>\n",
       "    </tr>\n",
       "    <tr>\n",
       "      <th>1</th>\n",
       "      <td>DEN</td>\n",
       "      <td>-2277.0</td>\n",
       "    </tr>\n",
       "    <tr>\n",
       "      <th>2</th>\n",
       "      <td>DFW</td>\n",
       "      <td>-2303.0</td>\n",
       "    </tr>\n",
       "    <tr>\n",
       "      <th>3</th>\n",
       "      <td>DTW</td>\n",
       "      <td>-2220.0</td>\n",
       "    </tr>\n",
       "    <tr>\n",
       "      <th>4</th>\n",
       "      <td>IAH</td>\n",
       "      <td>-2227.0</td>\n",
       "    </tr>\n",
       "  </tbody>\n",
       "</table>\n",
       "</div>"
      ],
      "text/plain": [
       "  Dest  Time Taken\n",
       "0  ATL     -2312.0\n",
       "1  DEN     -2277.0\n",
       "2  DFW     -2303.0\n",
       "3  DTW     -2220.0\n",
       "4  IAH     -2227.0"
      ]
     },
     "execution_count": 12,
     "metadata": {},
     "output_type": "execute_result"
    }
   ],
   "source": [
    "# the min and max values for the time taken for each carrier to reach their destination\n",
    "f_dest = flight_dest.groupby(['Dest'])['Time Taken'].min().reset_index()\n",
    "f_dest.head()"
   ]
  },
  {
   "cell_type": "code",
   "execution_count": 13,
   "metadata": {
    "slideshow": {
     "slide_type": "skip"
    }
   },
   "outputs": [
    {
     "name": "stdout",
     "output_type": "stream",
     "text": [
      "Dest             ATL\n",
      "Time Taken   -2323.0\n",
      "dtype: object\n",
      "Dest             SLC\n",
      "Time Taken   -2199.0\n",
      "dtype: object\n"
     ]
    }
   ],
   "source": [
    "# minimum time (mins) it took for a flight to reach its destination\n",
    "print(f_dest.min())\n",
    "# minimum time (mins) it took for a flight to reach its destination\n",
    "print(f_dest.max())"
   ]
  },
  {
   "cell_type": "markdown",
   "metadata": {
    "collapsed": true,
    "slideshow": {
     "slide_type": "slide"
    }
   },
   "source": [
    "## (Visualization 2)\n",
    "\n",
    "> For Visualization 1, i will be working with the following features **Origin, DepDelay, Time Taken, CancellationCode, Origin, Cancelled and Month**. For the destination code (Origin), it has **278** nunique code. I will be working on top **10** Origin code only. From my visualization below the shows top 10 Origin codes, there no record of cancelled trips. Also, all the top 10 Origin experienced delays with the highest been **LAS** and **PHX**."
   ]
  },
  {
   "cell_type": "code",
   "execution_count": 14,
   "metadata": {
    "scrolled": true,
    "slideshow": {
     "slide_type": "subslide"
    }
   },
   "outputs": [
    {
     "data": {
      "image/png": "[encoded data removed]",
      "text/plain": [
       "<Figure size 800x400 with 1 Axes>"
      ]
     },
     "metadata": {},
     "output_type": "display_data"
    }
   ],
   "source": [
    "# add figsize to the chart\n",
    "plt.figure(figsize = [8, 4]);\n",
    "\n",
    "# get the color palette for chart\n",
    "color = sb.color_palette()[1]\n",
    "\n",
    "# get list of top 10 Origin\n",
    "flight_origin = flight.loc[flight['Origin'].isin(['ATL','ORD', 'DFW','DEN', 'LAX', 'PHX', 'IAH', 'LAS', 'SLC', 'DTW'])]\n",
    "\n",
    "# get the index value \n",
    "order_val = flight_origin['Origin'].value_counts().index\n",
    "\n",
    "# plot count of Origin\n",
    "sb.countplot(data = flight_origin, x = 'Origin', order = order_val, color = color);"
   ]
  },
  {
   "cell_type": "markdown",
   "metadata": {},
   "source": [
    "The chart shows that from the top 10 flight destination in the first four month of 2008, ATL has the highest count."
   ]
  },
  {
   "cell_type": "code",
   "execution_count": 15,
   "metadata": {
    "slideshow": {
     "slide_type": "subslide"
    }
   },
   "outputs": [
    {
     "data": {
      "image/png": "[encoded data removed]",
      "text/plain": [
       "<Figure size 800x400 with 1 Axes>"
      ]
     },
     "metadata": {},
     "output_type": "display_data"
    }
   ],
   "source": [
    "# set the ordinal data in alphabetical order\n",
    "origin = ['ATL', 'DFW','DEN', 'DTW', 'IAH', 'LAX', 'LAS', 'IAH', 'ORD', 'PHX', 'SLC']\n",
    "\n",
    "# add figsize in the chart\n",
    "plt.figure(figsize = [8, 4]);\n",
    "\n",
    "# plot destination vs time taken and cancelled\n",
    "sb.barplot(x=\"Origin\",y=\"ArrDelay\",data=flight_origin, color = color, order = origin)\n",
    "\n",
    "# add title\n",
    "plt.title('Origin vs ArrDelay');"
   ]
  },
  {
   "cell_type": "markdown",
   "metadata": {},
   "source": [
    "The chart above shows the Arrival Dealy vs Origin. It depicts LAS, PHX experienced more flight arrival delays."
   ]
  },
  {
   "cell_type": "code",
   "execution_count": 16,
   "metadata": {
    "slideshow": {
     "slide_type": "subslide"
    }
   },
   "outputs": [
    {
     "data": {
      "image/png": "[encoded data removed]",
      "text/plain": [
       "<Figure size 800x400 with 1 Axes>"
      ]
     },
     "metadata": {},
     "output_type": "display_data"
    }
   ],
   "source": [
    "# add figsize in the chart\n",
    "plt.figure(figsize = [8, 4]);\n",
    "\n",
    "# plot origin vs timetaken and month\n",
    "sb.barplot(data = flight_origin, x = 'Origin', y = 'Time Taken', hue = 'Month', order = origin)\n",
    "\n",
    "# positon the legend and add title\n",
    "plt.legend(loc='upper right', title = 'Month');"
   ]
  },
  {
   "cell_type": "markdown",
   "metadata": {},
   "source": [
    "From the visualization above, the chart shows Time Taken vs Origin and Month."
   ]
  },
  {
   "cell_type": "code",
   "execution_count": 17,
   "metadata": {
    "slideshow": {
     "slide_type": "skip"
    }
   },
   "outputs": [
    {
     "data": {
      "text/html": [
       "<div>\n",
       "<style scoped>\n",
       "    .dataframe tbody tr th:only-of-type {\n",
       "        vertical-align: middle;\n",
       "    }\n",
       "\n",
       "    .dataframe tbody tr th {\n",
       "        vertical-align: top;\n",
       "    }\n",
       "\n",
       "    .dataframe thead th {\n",
       "        text-align: right;\n",
       "    }\n",
       "</style>\n",
       "<table border=\"1\" class=\"dataframe\">\n",
       "  <thead>\n",
       "    <tr style=\"text-align: right;\">\n",
       "      <th></th>\n",
       "      <th>Origin</th>\n",
       "      <th>Cancelled</th>\n",
       "      <th>Time Taken</th>\n",
       "    </tr>\n",
       "  </thead>\n",
       "  <tbody>\n",
       "    <tr>\n",
       "      <th>0</th>\n",
       "      <td>ATL</td>\n",
       "      <td>0</td>\n",
       "      <td>101.235101</td>\n",
       "    </tr>\n",
       "    <tr>\n",
       "      <th>1</th>\n",
       "      <td>ATL</td>\n",
       "      <td>1</td>\n",
       "      <td>NaN</td>\n",
       "    </tr>\n",
       "    <tr>\n",
       "      <th>2</th>\n",
       "      <td>DEN</td>\n",
       "      <td>0</td>\n",
       "      <td>200.624383</td>\n",
       "    </tr>\n",
       "    <tr>\n",
       "      <th>3</th>\n",
       "      <td>DEN</td>\n",
       "      <td>1</td>\n",
       "      <td>NaN</td>\n",
       "    </tr>\n",
       "    <tr>\n",
       "      <th>4</th>\n",
       "      <td>DFW</td>\n",
       "      <td>0</td>\n",
       "      <td>172.809338</td>\n",
       "    </tr>\n",
       "    <tr>\n",
       "      <th>5</th>\n",
       "      <td>DFW</td>\n",
       "      <td>1</td>\n",
       "      <td>NaN</td>\n",
       "    </tr>\n",
       "    <tr>\n",
       "      <th>6</th>\n",
       "      <td>DTW</td>\n",
       "      <td>0</td>\n",
       "      <td>120.924314</td>\n",
       "    </tr>\n",
       "    <tr>\n",
       "      <th>7</th>\n",
       "      <td>DTW</td>\n",
       "      <td>1</td>\n",
       "      <td>NaN</td>\n",
       "    </tr>\n",
       "    <tr>\n",
       "      <th>8</th>\n",
       "      <td>IAH</td>\n",
       "      <td>0</td>\n",
       "      <td>204.017569</td>\n",
       "    </tr>\n",
       "    <tr>\n",
       "      <th>9</th>\n",
       "      <td>IAH</td>\n",
       "      <td>1</td>\n",
       "      <td>NaN</td>\n",
       "    </tr>\n",
       "    <tr>\n",
       "      <th>10</th>\n",
       "      <td>LAS</td>\n",
       "      <td>0</td>\n",
       "      <td>30.351842</td>\n",
       "    </tr>\n",
       "    <tr>\n",
       "      <th>11</th>\n",
       "      <td>LAS</td>\n",
       "      <td>1</td>\n",
       "      <td>NaN</td>\n",
       "    </tr>\n",
       "    <tr>\n",
       "      <th>12</th>\n",
       "      <td>LAX</td>\n",
       "      <td>0</td>\n",
       "      <td>158.560398</td>\n",
       "    </tr>\n",
       "    <tr>\n",
       "      <th>13</th>\n",
       "      <td>LAX</td>\n",
       "      <td>1</td>\n",
       "      <td>NaN</td>\n",
       "    </tr>\n",
       "    <tr>\n",
       "      <th>14</th>\n",
       "      <td>ORD</td>\n",
       "      <td>0</td>\n",
       "      <td>210.356535</td>\n",
       "    </tr>\n",
       "    <tr>\n",
       "      <th>15</th>\n",
       "      <td>ORD</td>\n",
       "      <td>1</td>\n",
       "      <td>NaN</td>\n",
       "    </tr>\n",
       "    <tr>\n",
       "      <th>16</th>\n",
       "      <td>PHX</td>\n",
       "      <td>0</td>\n",
       "      <td>178.245865</td>\n",
       "    </tr>\n",
       "    <tr>\n",
       "      <th>17</th>\n",
       "      <td>PHX</td>\n",
       "      <td>1</td>\n",
       "      <td>NaN</td>\n",
       "    </tr>\n",
       "    <tr>\n",
       "      <th>18</th>\n",
       "      <td>SLC</td>\n",
       "      <td>0</td>\n",
       "      <td>174.877013</td>\n",
       "    </tr>\n",
       "    <tr>\n",
       "      <th>19</th>\n",
       "      <td>SLC</td>\n",
       "      <td>1</td>\n",
       "      <td>NaN</td>\n",
       "    </tr>\n",
       "  </tbody>\n",
       "</table>\n",
       "</div>"
      ],
      "text/plain": [
       "   Origin  Cancelled  Time Taken\n",
       "0     ATL          0  101.235101\n",
       "1     ATL          1         NaN\n",
       "2     DEN          0  200.624383\n",
       "3     DEN          1         NaN\n",
       "4     DFW          0  172.809338\n",
       "5     DFW          1         NaN\n",
       "6     DTW          0  120.924314\n",
       "7     DTW          1         NaN\n",
       "8     IAH          0  204.017569\n",
       "9     IAH          1         NaN\n",
       "10    LAS          0   30.351842\n",
       "11    LAS          1         NaN\n",
       "12    LAX          0  158.560398\n",
       "13    LAX          1         NaN\n",
       "14    ORD          0  210.356535\n",
       "15    ORD          1         NaN\n",
       "16    PHX          0  178.245865\n",
       "17    PHX          1         NaN\n",
       "18    SLC          0  174.877013\n",
       "19    SLC          1         NaN"
      ]
     },
     "execution_count": 17,
     "metadata": {},
     "output_type": "execute_result"
    }
   ],
   "source": [
    "# get the mean value for time taken for each carrier\n",
    "origin = flight_origin.groupby(['Origin', 'Cancelled'])['Time Taken'].mean().reset_index()\n",
    "origin"
   ]
  },
  {
   "cell_type": "code",
   "execution_count": 18,
   "metadata": {
    "slideshow": {
     "slide_type": "subslide"
    }
   },
   "outputs": [
    {
     "data": {
      "image/png": "[encoded data removed]",
      "text/plain": [
       "<Figure size 800x400 with 1 Axes>"
      ]
     },
     "metadata": {},
     "output_type": "display_data"
    }
   ],
   "source": [
    "plt.figure(figsize = [8, 4]);\n",
    "\n",
    "# plot barplot of Origin vs Time Taken and Cancelled\n",
    "sb.barplot(data=origin, x='Origin',y ='Time Taken', hue='Cancelled');"
   ]
  },
  {
   "cell_type": "markdown",
   "metadata": {},
   "source": [
    "From the chart above, it can be seen that no flight with carrier from origin was cancelled. "
   ]
  },
  {
   "cell_type": "code",
   "execution_count": 19,
   "metadata": {
    "slideshow": {
     "slide_type": "skip"
    }
   },
   "outputs": [
    {
     "data": {
      "text/html": [
       "<div>\n",
       "<style scoped>\n",
       "    .dataframe tbody tr th:only-of-type {\n",
       "        vertical-align: middle;\n",
       "    }\n",
       "\n",
       "    .dataframe tbody tr th {\n",
       "        vertical-align: top;\n",
       "    }\n",
       "\n",
       "    .dataframe thead th {\n",
       "        text-align: right;\n",
       "    }\n",
       "</style>\n",
       "<table border=\"1\" class=\"dataframe\">\n",
       "  <thead>\n",
       "    <tr style=\"text-align: right;\">\n",
       "      <th></th>\n",
       "      <th>Month</th>\n",
       "      <th>Time Taken</th>\n",
       "    </tr>\n",
       "  </thead>\n",
       "  <tbody>\n",
       "    <tr>\n",
       "      <th>0</th>\n",
       "      <td>1</td>\n",
       "      <td>166.172065</td>\n",
       "    </tr>\n",
       "    <tr>\n",
       "      <th>1</th>\n",
       "      <td>2</td>\n",
       "      <td>163.611885</td>\n",
       "    </tr>\n",
       "    <tr>\n",
       "      <th>2</th>\n",
       "      <td>3</td>\n",
       "      <td>161.227787</td>\n",
       "    </tr>\n",
       "    <tr>\n",
       "      <th>3</th>\n",
       "      <td>4</td>\n",
       "      <td>161.821381</td>\n",
       "    </tr>\n",
       "  </tbody>\n",
       "</table>\n",
       "</div>"
      ],
      "text/plain": [
       "   Month  Time Taken\n",
       "0      1  166.172065\n",
       "1      2  163.611885\n",
       "2      3  161.227787\n",
       "3      4  161.821381"
      ]
     },
     "execution_count": 19,
     "metadata": {},
     "output_type": "execute_result"
    }
   ],
   "source": [
    "# i am looking at the best time (Month) for flight to occur\n",
    "month = flight.groupby(['Month'])['Time Taken'].mean().reset_index()\n",
    "month"
   ]
  },
  {
   "cell_type": "code",
   "execution_count": 20,
   "metadata": {
    "slideshow": {
     "slide_type": "subslide"
    }
   },
   "outputs": [
    {
     "data": {
      "image/png": "[encoded data removed]",
      "text/plain": [
       "<Figure size 640x480 with 1 Axes>"
      ]
     },
     "metadata": {},
     "output_type": "display_data"
    }
   ],
   "source": [
    "# plot of a numerical and categorical feature\n",
    "sb.barplot(data= month, x = 'Month', y = 'Time Taken', color = color)\n",
    "plt.title('Month vs Time');"
   ]
  },
  {
   "cell_type": "markdown",
   "metadata": {},
   "source": [
    "The visualization above shows that more time was spend in Month 1 (January) in the first 4 months in 2008."
   ]
  },
  {
   "cell_type": "markdown",
   "metadata": {
    "slideshow": {
     "slide_type": "slide"
    }
   },
   "source": [
    "## (Visualization 3)\n",
    "\n"
   ]
  },
  {
   "cell_type": "code",
   "execution_count": 21,
   "metadata": {
    "slideshow": {
     "slide_type": "subslide"
    }
   },
   "outputs": [
    {
     "data": {
      "image/png": "[encoded data removed]",
      "text/plain": [
       "<Figure size 640x480 with 1 Axes>"
      ]
     },
     "metadata": {},
     "output_type": "display_data"
    }
   ],
   "source": [
    "# select random 200 samples\n",
    "sample = np.random.choice(flight.shape[0], 200, replace = False)\n",
    "\n",
    "# chose the whole dataframe of the 200 samples selected\n",
    "fuel_subset = flight.loc[sample]\n",
    "\n",
    "# we are working with two numerical variables ie displ and comb\n",
    "sb.regplot(data = flight, x = 'ArrDelay', y='DepDelay', x_jitter = 0.5, fit_reg = False)\n",
    "plt.xlabel('ArrDelay (min)')\n",
    "plt.ylabel('DepDelay (min)')\n",
    "plt.title('ArrDelay vs DepDelay');"
   ]
  },
  {
   "cell_type": "markdown",
   "metadata": {},
   "source": [
    "The chart shows scatter plot of Arrival delays vs Departure. It can been see that were flight delays."
   ]
  },
  {
   "cell_type": "markdown",
   "metadata": {
    "slideshow": {
     "slide_type": "notes"
    }
   },
   "source": [
    ">**Generate Slideshow**: Once you're ready to generate your slideshow, use the `jupyter nbconvert` command to generate the HTML slide show. . From the terminal or command line, use the following expression."
   ]
  },
  {
   "cell_type": "code",
   "execution_count": null,
   "metadata": {
    "slideshow": {
     "slide_type": "skip"
    }
   },
   "outputs": [],
   "source": [
    "!jupyter nbconvert Part_II_slide_deck_template.ipynb --to slides --post serve --no-input --no-prompt"
   ]
  },
  {
   "cell_type": "markdown",
   "metadata": {
    "slideshow": {
     "slide_type": "notes"
    }
   },
   "source": [
    "> This should open a tab in your web browser where you can scroll through your presentation. Sub-slides can be accessed by pressing 'down' when viewing its parent slide. Make sure you remove all of the quote-formatted guide notes like this one before you finish your presentation! At last, you can stop the Kernel. "
   ]
  }
 ],
 "metadata": {
  "celltoolbar": "Slideshow",
  "kernelspec": {
   "display_name": "Python 3 (ipykernel)",
   "language": "python",
   "name": "python3"
  },
  "language_info": {
   "codemirror_mode": {
    "name": "ipython",
    "version": 3
   },
   "file_extension": ".py",
   "mimetype": "text/x-python",
   "name": "python",
   "nbconvert_exporter": "python",
   "pygments_lexer": "ipython3",
   "version": "3.7.16"
  }
 },
 "nbformat": 4,
 "nbformat_minor": 2
}
